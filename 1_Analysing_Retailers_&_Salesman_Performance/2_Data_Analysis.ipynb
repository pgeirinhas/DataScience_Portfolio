{
 "cells": [
  {
   "cell_type": "markdown",
   "id": "e84f0179",
   "metadata": {},
   "source": [
    "# Clustering Analysis"
   ]
  },
  {
   "cell_type": "markdown",
   "id": "6edfb5d2",
   "metadata": {},
   "source": [
    "- Problem: There are too many retailers to create Clusters manually and metrics are not clear. \n",
    "- Business Goal: Cluster Retailers according to 2/3 KPI to later conduct A/B testing on a specific controlled group or improve promotion campaigns.\n",
    "    - Create clusters of retailers's point of sales and/or their salesman, in respect to their performance.  \n",
    "    - Find out possible fraudulent Retailers.\n",
    "    - Derive findings from created Clusters"
   ]
  },
  {
   "cell_type": "markdown",
   "id": "433cf0fc",
   "metadata": {},
   "source": [
    "## Import Modules & Libraries"
   ]
  },
  {
   "cell_type": "code",
   "execution_count": 9,
   "id": "8adb18c9",
   "metadata": {},
   "outputs": [],
   "source": [
    "# Base ----\n",
    "import pandas as pd\n",
    "# Dataviz -----\n",
    "import matplotlib.pyplot as plt\n",
    "%matplotlib inline\n",
    "from plotnine import*\n",
    "# Model ----\n",
    "from sklearn.cluster import KMeans"
   ]
  },
  {
   "cell_type": "markdown",
   "id": "363db5c3",
   "metadata": {},
   "source": [
    "## Load Dataset"
   ]
  },
  {
   "cell_type": "code",
   "execution_count": 316,
   "id": "84f1598c",
   "metadata": {
    "scrolled": true
   },
   "outputs": [],
   "source": [
    "pos_df = pd.read_excel(\"./merged_excel/ficheirolino_estancos.xlsx\")\n",
    "#salesman_df = pd.read_excel(\"./merged_excel/ficheirolino_vendedores.xlsx\")"
   ]
  },
  {
   "cell_type": "markdown",
   "id": "a8f28475",
   "metadata": {},
   "source": [
    "## Data Cleaning of the Dataset"
   ]
  },
  {
   "cell_type": "markdown",
   "id": "c454d3d9",
   "metadata": {},
   "source": [
    "Check for missing values and Replace for Reto and Puntos"
   ]
  },
  {
   "cell_type": "code",
   "execution_count": 317,
   "id": "742228d7",
   "metadata": {
    "scrolled": true
   },
   "outputs": [
    {
     "data": {
      "text/plain": [
       "Región                                    0\n",
       "Zona                                      0\n",
       "Territorio                                1\n",
       "Estanco                                   0\n",
       "Tipo reto                                 0\n",
       "Reto                                      1\n",
       "Puntos                                    1\n",
       "Fecha inicio                              0\n",
       "Fecha fin                                 0\n",
       "Segmento                                  1\n",
       "Codigo                                    2\n",
       "Nombre profesional                        3\n",
       "Email                                     2\n",
       "Perfil                                    7\n",
       "Activo                                   16\n",
       "Resultado Ventas                        144\n",
       "Resultado (Retos Logrado/No logrado)      0\n",
       "dtype: int64"
      ]
     },
     "execution_count": 317,
     "metadata": {},
     "output_type": "execute_result"
    }
   ],
   "source": [
    "pos_df.isna().sum()"
   ]
  },
  {
   "cell_type": "code",
   "execution_count": 318,
   "id": "a294cf3e",
   "metadata": {},
   "outputs": [],
   "source": [
    "pos_df.loc[pos_df.Reto.isna(),[\"Reto\",\"Puntos\"]] = [8, 20]"
   ]
  },
  {
   "cell_type": "markdown",
   "id": "b7622cf0",
   "metadata": {},
   "source": [
    "Check for unique values to perform basic checks. \n",
    "There should be 13 Regions, 47 Zones, 2791 PoS."
   ]
  },
  {
   "cell_type": "code",
   "execution_count": 319,
   "id": "37544755",
   "metadata": {},
   "outputs": [
    {
     "data": {
      "text/plain": [
       "Región                                    13\n",
       "Zona                                      47\n",
       "Territorio                               122\n",
       "Estanco                                 2791\n",
       "Tipo reto                                 12\n",
       "Reto                                      15\n",
       "Puntos                                    14\n",
       "Fecha inicio                             122\n",
       "Fecha fin                                116\n",
       "Segmento                                  16\n",
       "Codigo                                  2935\n",
       "Nombre profesional                      4192\n",
       "Email                                   3768\n",
       "Perfil                                    12\n",
       "Activo                                     1\n",
       "Resultado Ventas                          29\n",
       "Resultado (Retos Logrado/No logrado)       6\n",
       "dtype: int64"
      ]
     },
     "execution_count": 319,
     "metadata": {},
     "output_type": "execute_result"
    }
   ],
   "source": [
    "pos_df.nunique()"
   ]
  },
  {
   "cell_type": "code",
   "execution_count": 355,
   "id": "c98bef1e",
   "metadata": {},
   "outputs": [],
   "source": [
    "pos_df[\"Region\"] = pos_df.Región"
   ]
  },
  {
   "cell_type": "code",
   "execution_count": 321,
   "id": "7cdcbbb0",
   "metadata": {},
   "outputs": [
    {
     "data": {
      "text/plain": [
       "array(['REGION 1', 'R001', 'REGION 2', 'REGION 3', 'R002', 'R003',\n",
       "       'REGION 4', '10+A1106:L1106', 'REGION 6', 'R004', 'Rr004',\n",
       "       'REGION 5', 'R005'], dtype=object)"
      ]
     },
     "execution_count": 321,
     "metadata": {},
     "output_type": "execute_result"
    }
   ],
   "source": [
    "pos_df.Region.unique()"
   ]
  },
  {
   "cell_type": "code",
   "execution_count": 340,
   "id": "067a20b5",
   "metadata": {},
   "outputs": [
    {
     "data": {
      "text/plain": [
       "11730"
      ]
     },
     "execution_count": 340,
     "metadata": {},
     "output_type": "execute_result"
    }
   ],
   "source": [
    "pos_df.Region.isna().sum()"
   ]
  },
  {
   "cell_type": "code",
   "execution_count": 366,
   "id": "4c12dca3",
   "metadata": {},
   "outputs": [],
   "source": [
    "# This function harmonizes the name of the Region to the same format\n",
    "def RegionConverter(element, i):\n",
    "        if element == \"Rr00\" + str(i):\n",
    "            return \"R00\" + str(i)\n",
    "        elif element == \"REGION \"+ str(i):\n",
    "            return \"R00\" + str(i)\n",
    "        elif element == \"R00\" + str(i):\n",
    "            return \"R00\" + str(i)\n",
    "        elif element == \"10+A1106:L1106\":\n",
    "            return \"R004\"\n",
    "        else:\n",
    "            return element"
   ]
  },
  {
   "cell_type": "code",
   "execution_count": 367,
   "id": "3ba19776",
   "metadata": {
    "scrolled": true
   },
   "outputs": [],
   "source": [
    "for n in range(1,7): # Run For Loop since there are 6 regions (this avoids having to change Region names manually)\n",
    "    pos_df[\"Region\"] = pos_df.Region.apply(RegionConverter, args=(n,))"
   ]
  },
  {
   "cell_type": "code",
   "execution_count": 370,
   "id": "895fc22e",
   "metadata": {},
   "outputs": [
    {
     "data": {
      "text/plain": [
       "R004    2880\n",
       "R003    2731\n",
       "R005    2092\n",
       "R001    2030\n",
       "R002    1995\n",
       "R006       2\n",
       "Name: Region, dtype: int64"
      ]
     },
     "execution_count": 370,
     "metadata": {},
     "output_type": "execute_result"
    }
   ],
   "source": [
    "pos_df.Region.value_counts()"
   ]
  },
  {
   "cell_type": "code",
   "execution_count": 381,
   "id": "6e7a92ca",
   "metadata": {},
   "outputs": [],
   "source": [
    "# There are only 5 Regions but value counts shows 2 entries for R006.\n",
    "# Replace R006 with correct Region since this is a fat finger derived mistake"
   ]
  },
  {
   "cell_type": "code",
   "execution_count": 389,
   "id": "4338f0ee",
   "metadata": {},
   "outputs": [],
   "source": [
    "pos_df.loc[pos_df.Region.str.contains(\"R006\"),:] # After inspection R006 belongs to Zona ZN20. \n",
    "pos_df.loc[pos_df.Zona == \"ZN20\",:]# Find the equivalent Region name in ZN20\n",
    "pos_df.loc[pos_df.Region.str.contains(\"R006\"),\"Region\"] = \"R004\" # Replace for the value found in the line code above"
   ]
  },
  {
   "cell_type": "code",
   "execution_count": 393,
   "id": "48dfd63f",
   "metadata": {},
   "outputs": [],
   "source": [
    "pos_df.drop(columns=\"Región\", inplace=True)"
   ]
  },
  {
   "cell_type": "code",
   "execution_count": 412,
   "id": "a39a1167",
   "metadata": {},
   "outputs": [],
   "source": [
    "# Reorder column names\n",
    "cols = pos_df.columns.tolist()\n",
    "cols = cols[-1:] + cols[0:-1] # create list with new order\n",
    "pos_df = pos_df[cols]"
   ]
  },
  {
   "cell_type": "markdown",
   "id": "e07f354f",
   "metadata": {},
   "source": [
    "Convert and Check for Datatypes"
   ]
  },
  {
   "cell_type": "code",
   "execution_count": 413,
   "id": "3b3b67fe",
   "metadata": {
    "scrolled": false
   },
   "outputs": [
    {
     "name": "stdout",
     "output_type": "stream",
     "text": [
      "<class 'pandas.core.frame.DataFrame'>\n",
      "RangeIndex: 11730 entries, 0 to 11729\n",
      "Data columns (total 17 columns):\n",
      " #   Column                                Non-Null Count  Dtype \n",
      "---  ------                                --------------  ----- \n",
      " 0   Region                                11730 non-null  string\n",
      " 1   Zona                                  11730 non-null  string\n",
      " 2   Territorio                            11729 non-null  Int64 \n",
      " 3   Estanco                               11730 non-null  string\n",
      " 4   Tipo reto                             11730 non-null  string\n",
      " 5   Reto                                  11730 non-null  Int64 \n",
      " 6   Puntos                                11730 non-null  Int64 \n",
      " 7   Fecha inicio                          11730 non-null  object\n",
      " 8   Fecha fin                             11730 non-null  object\n",
      " 9   Segmento                              11729 non-null  object\n",
      " 10  Codigo                                11728 non-null  object\n",
      " 11  Nombre profesional                    11727 non-null  string\n",
      " 12  Email                                 11728 non-null  string\n",
      " 13  Perfil                                11723 non-null  string\n",
      " 14  Activo                                11714 non-null  Int64 \n",
      " 15  Resultado Ventas                      11586 non-null  Int64 \n",
      " 16  Resultado (Retos Logrado/No logrado)  11730 non-null  object\n",
      "dtypes: Int64(5), object(5), string(7)\n",
      "memory usage: 1.6+ MB\n"
     ]
    }
   ],
   "source": [
    "pos_df = pos_df.convert_dtypes()\n",
    "pos_df.info()"
   ]
  },
  {
   "cell_type": "markdown",
   "id": "19140ede",
   "metadata": {},
   "source": [
    "Check for simples stats"
   ]
  },
  {
   "cell_type": "code",
   "execution_count": 414,
   "id": "2e50d4e1",
   "metadata": {},
   "outputs": [
    {
     "data": {
      "text/html": [
       "<div>\n",
       "<style scoped>\n",
       "    .dataframe tbody tr th:only-of-type {\n",
       "        vertical-align: middle;\n",
       "    }\n",
       "\n",
       "    .dataframe tbody tr th {\n",
       "        vertical-align: top;\n",
       "    }\n",
       "\n",
       "    .dataframe thead th {\n",
       "        text-align: right;\n",
       "    }\n",
       "</style>\n",
       "<table border=\"1\" class=\"dataframe\">\n",
       "  <thead>\n",
       "    <tr style=\"text-align: right;\">\n",
       "      <th></th>\n",
       "      <th>Territorio</th>\n",
       "      <th>Reto</th>\n",
       "      <th>Puntos</th>\n",
       "      <th>Activo</th>\n",
       "      <th>Resultado Ventas</th>\n",
       "    </tr>\n",
       "  </thead>\n",
       "  <tbody>\n",
       "    <tr>\n",
       "      <th>count</th>\n",
       "      <td>11729.000000</td>\n",
       "      <td>11730.000000</td>\n",
       "      <td>11730.000000</td>\n",
       "      <td>11714.0</td>\n",
       "      <td>11586.000000</td>\n",
       "    </tr>\n",
       "    <tr>\n",
       "      <th>mean</th>\n",
       "      <td>2367.926336</td>\n",
       "      <td>1.822933</td>\n",
       "      <td>13.387383</td>\n",
       "      <td>1.0</td>\n",
       "      <td>1.213879</td>\n",
       "    </tr>\n",
       "    <tr>\n",
       "      <th>std</th>\n",
       "      <td>1395.262334</td>\n",
       "      <td>1.433472</td>\n",
       "      <td>8.559042</td>\n",
       "      <td>0.0</td>\n",
       "      <td>2.500307</td>\n",
       "    </tr>\n",
       "    <tr>\n",
       "      <th>min</th>\n",
       "      <td>101.000000</td>\n",
       "      <td>1.000000</td>\n",
       "      <td>0.000000</td>\n",
       "      <td>1.0</td>\n",
       "      <td>0.000000</td>\n",
       "    </tr>\n",
       "    <tr>\n",
       "      <th>25%</th>\n",
       "      <td>815.000000</td>\n",
       "      <td>1.000000</td>\n",
       "      <td>10.000000</td>\n",
       "      <td>1.0</td>\n",
       "      <td>0.000000</td>\n",
       "    </tr>\n",
       "    <tr>\n",
       "      <th>50%</th>\n",
       "      <td>2808.000000</td>\n",
       "      <td>1.000000</td>\n",
       "      <td>10.000000</td>\n",
       "      <td>1.0</td>\n",
       "      <td>0.000000</td>\n",
       "    </tr>\n",
       "    <tr>\n",
       "      <th>75%</th>\n",
       "      <td>3301.000000</td>\n",
       "      <td>2.000000</td>\n",
       "      <td>10.000000</td>\n",
       "      <td>1.0</td>\n",
       "      <td>1.000000</td>\n",
       "    </tr>\n",
       "    <tr>\n",
       "      <th>max</th>\n",
       "      <td>5003.000000</td>\n",
       "      <td>30.000000</td>\n",
       "      <td>120.000000</td>\n",
       "      <td>1.0</td>\n",
       "      <td>94.000000</td>\n",
       "    </tr>\n",
       "  </tbody>\n",
       "</table>\n",
       "</div>"
      ],
      "text/plain": [
       "         Territorio          Reto        Puntos   Activo  Resultado Ventas\n",
       "count  11729.000000  11730.000000  11730.000000  11714.0      11586.000000\n",
       "mean    2367.926336      1.822933     13.387383      1.0          1.213879\n",
       "std     1395.262334      1.433472      8.559042      0.0          2.500307\n",
       "min      101.000000      1.000000      0.000000      1.0          0.000000\n",
       "25%      815.000000      1.000000     10.000000      1.0          0.000000\n",
       "50%     2808.000000      1.000000     10.000000      1.0          0.000000\n",
       "75%     3301.000000      2.000000     10.000000      1.0          1.000000\n",
       "max     5003.000000     30.000000    120.000000      1.0         94.000000"
      ]
     },
     "execution_count": 414,
     "metadata": {},
     "output_type": "execute_result"
    }
   ],
   "source": [
    "pos_df.describe()"
   ]
  },
  {
   "cell_type": "code",
   "execution_count": 415,
   "id": "88554b59",
   "metadata": {},
   "outputs": [
    {
     "data": {
      "text/html": [
       "<div>\n",
       "<style scoped>\n",
       "    .dataframe tbody tr th:only-of-type {\n",
       "        vertical-align: middle;\n",
       "    }\n",
       "\n",
       "    .dataframe tbody tr th {\n",
       "        vertical-align: top;\n",
       "    }\n",
       "\n",
       "    .dataframe thead th {\n",
       "        text-align: right;\n",
       "    }\n",
       "</style>\n",
       "<table border=\"1\" class=\"dataframe\">\n",
       "  <thead>\n",
       "    <tr style=\"text-align: right;\">\n",
       "      <th></th>\n",
       "      <th>Region</th>\n",
       "      <th>Zona</th>\n",
       "      <th>Estanco</th>\n",
       "      <th>Tipo reto</th>\n",
       "      <th>Nombre profesional</th>\n",
       "      <th>Email</th>\n",
       "      <th>Perfil</th>\n",
       "    </tr>\n",
       "  </thead>\n",
       "  <tbody>\n",
       "    <tr>\n",
       "      <th>count</th>\n",
       "      <td>11730</td>\n",
       "      <td>11730</td>\n",
       "      <td>11730</td>\n",
       "      <td>11730</td>\n",
       "      <td>11727</td>\n",
       "      <td>11728</td>\n",
       "      <td>11723</td>\n",
       "    </tr>\n",
       "    <tr>\n",
       "      <th>unique</th>\n",
       "      <td>5</td>\n",
       "      <td>47</td>\n",
       "      <td>2791</td>\n",
       "      <td>12</td>\n",
       "      <td>4192</td>\n",
       "      <td>3768</td>\n",
       "      <td>12</td>\n",
       "    </tr>\n",
       "    <tr>\n",
       "      <th>top</th>\n",
       "      <td>R004</td>\n",
       "      <td>ZN16</td>\n",
       "      <td>CALPE-003</td>\n",
       "      <td>VENTA</td>\n",
       "      <td>Maria antonia Amengual berna</td>\n",
       "      <td>estancogranada36@gmail.com</td>\n",
       "      <td>Shop Owner 1</td>\n",
       "    </tr>\n",
       "    <tr>\n",
       "      <th>freq</th>\n",
       "      <td>2882</td>\n",
       "      <td>968</td>\n",
       "      <td>54</td>\n",
       "      <td>8978</td>\n",
       "      <td>19</td>\n",
       "      <td>18</td>\n",
       "      <td>7032</td>\n",
       "    </tr>\n",
       "  </tbody>\n",
       "</table>\n",
       "</div>"
      ],
      "text/plain": [
       "       Region   Zona    Estanco Tipo reto            Nombre profesional  \\\n",
       "count   11730  11730      11730     11730                         11727   \n",
       "unique      5     47       2791        12                          4192   \n",
       "top      R004   ZN16  CALPE-003     VENTA  Maria antonia Amengual berna   \n",
       "freq     2882    968         54      8978                            19   \n",
       "\n",
       "                             Email        Perfil  \n",
       "count                        11728         11723  \n",
       "unique                        3768            12  \n",
       "top     estancogranada36@gmail.com  Shop Owner 1  \n",
       "freq                            18          7032  "
      ]
     },
     "execution_count": 415,
     "metadata": {},
     "output_type": "execute_result"
    }
   ],
   "source": [
    "pos_df.describe(include=\"string\")"
   ]
  },
  {
   "cell_type": "code",
   "execution_count": 418,
   "id": "d20ece6f",
   "metadata": {},
   "outputs": [
    {
     "data": {
      "text/html": [
       "<div>\n",
       "<style scoped>\n",
       "    .dataframe tbody tr th:only-of-type {\n",
       "        vertical-align: middle;\n",
       "    }\n",
       "\n",
       "    .dataframe tbody tr th {\n",
       "        vertical-align: top;\n",
       "    }\n",
       "\n",
       "    .dataframe thead th {\n",
       "        text-align: right;\n",
       "    }\n",
       "</style>\n",
       "<table border=\"1\" class=\"dataframe\">\n",
       "  <thead>\n",
       "    <tr style=\"text-align: right;\">\n",
       "      <th></th>\n",
       "      <th>Fecha inicio</th>\n",
       "      <th>Fecha fin</th>\n",
       "      <th>Segmento</th>\n",
       "      <th>Codigo</th>\n",
       "      <th>Resultado (Retos Logrado/No logrado)</th>\n",
       "    </tr>\n",
       "  </thead>\n",
       "  <tbody>\n",
       "    <tr>\n",
       "      <th>count</th>\n",
       "      <td>11730</td>\n",
       "      <td>11730</td>\n",
       "      <td>11729</td>\n",
       "      <td>11728</td>\n",
       "      <td>11730</td>\n",
       "    </tr>\n",
       "    <tr>\n",
       "      <th>unique</th>\n",
       "      <td>122</td>\n",
       "      <td>116</td>\n",
       "      <td>16</td>\n",
       "      <td>2935</td>\n",
       "      <td>6</td>\n",
       "    </tr>\n",
       "    <tr>\n",
       "      <th>top</th>\n",
       "      <td>2021-05-01 00:00:00</td>\n",
       "      <td>2021-04-30 00:00:00</td>\n",
       "      <td>OFFICIAL RESELLER</td>\n",
       "      <td>999000785</td>\n",
       "      <td>No logrado</td>\n",
       "    </tr>\n",
       "    <tr>\n",
       "      <th>freq</th>\n",
       "      <td>816</td>\n",
       "      <td>1876</td>\n",
       "      <td>3236</td>\n",
       "      <td>45</td>\n",
       "      <td>4925</td>\n",
       "    </tr>\n",
       "  </tbody>\n",
       "</table>\n",
       "</div>"
      ],
      "text/plain": [
       "               Fecha inicio            Fecha fin           Segmento  \\\n",
       "count                 11730                11730              11729   \n",
       "unique                  122                  116                 16   \n",
       "top     2021-05-01 00:00:00  2021-04-30 00:00:00  OFFICIAL RESELLER   \n",
       "freq                    816                 1876               3236   \n",
       "\n",
       "           Codigo Resultado (Retos Logrado/No logrado)  \n",
       "count       11728                                11730  \n",
       "unique       2935                                    6  \n",
       "top     999000785                           No logrado  \n",
       "freq           45                                 4925  "
      ]
     },
     "execution_count": 418,
     "metadata": {},
     "output_type": "execute_result"
    }
   ],
   "source": [
    "pos_df.describe(include=\"object\")"
   ]
  },
  {
   "cell_type": "code",
   "execution_count": 416,
   "id": "e75f93e1",
   "metadata": {},
   "outputs": [
    {
     "data": {
      "text/html": [
       "<div>\n",
       "<style scoped>\n",
       "    .dataframe tbody tr th:only-of-type {\n",
       "        vertical-align: middle;\n",
       "    }\n",
       "\n",
       "    .dataframe tbody tr th {\n",
       "        vertical-align: top;\n",
       "    }\n",
       "\n",
       "    .dataframe thead th {\n",
       "        text-align: right;\n",
       "    }\n",
       "</style>\n",
       "<table border=\"1\" class=\"dataframe\">\n",
       "  <thead>\n",
       "    <tr style=\"text-align: right;\">\n",
       "      <th></th>\n",
       "      <th>Region</th>\n",
       "      <th>Zona</th>\n",
       "      <th>Territorio</th>\n",
       "      <th>Estanco</th>\n",
       "      <th>Tipo reto</th>\n",
       "      <th>Reto</th>\n",
       "      <th>Puntos</th>\n",
       "      <th>Fecha inicio</th>\n",
       "      <th>Fecha fin</th>\n",
       "      <th>Segmento</th>\n",
       "      <th>Codigo</th>\n",
       "      <th>Nombre profesional</th>\n",
       "      <th>Email</th>\n",
       "      <th>Perfil</th>\n",
       "      <th>Activo</th>\n",
       "      <th>Resultado Ventas</th>\n",
       "      <th>Resultado (Retos Logrado/No logrado)</th>\n",
       "    </tr>\n",
       "  </thead>\n",
       "  <tbody>\n",
       "    <tr>\n",
       "      <th>0</th>\n",
       "      <td>R001</td>\n",
       "      <td>ZN3</td>\n",
       "      <td>2801</td>\n",
       "      <td>ALCORCON-001</td>\n",
       "      <td>VENTA</td>\n",
       "      <td>2</td>\n",
       "      <td>20</td>\n",
       "      <td>2021-02-09 00:00:00</td>\n",
       "      <td>2021-02-14 00:00:00</td>\n",
       "      <td>OFFICIAL RESELLER</td>\n",
       "      <td>999009382</td>\n",
       "      <td>Laura Garcia Moreno</td>\n",
       "      <td>l.garcia.m@hotmail.es</td>\n",
       "      <td>PROPIETARIO</td>\n",
       "      <td>1</td>\n",
       "      <td>0</td>\n",
       "      <td>No Logrado</td>\n",
       "    </tr>\n",
       "    <tr>\n",
       "      <th>1</th>\n",
       "      <td>R001</td>\n",
       "      <td>ZN3</td>\n",
       "      <td>2801</td>\n",
       "      <td>ALCORCON-007</td>\n",
       "      <td>VENTA</td>\n",
       "      <td>2</td>\n",
       "      <td>20</td>\n",
       "      <td>2021-02-09 00:00:00</td>\n",
       "      <td>2021-02-14 00:00:00</td>\n",
       "      <td>OFFICIAL RESELLER PLUS</td>\n",
       "      <td>999009388</td>\n",
       "      <td>ALEJANDRO MARCOS RUIZ</td>\n",
       "      <td>estancolasretamas54@gmail.com</td>\n",
       "      <td>PROPIETARIO</td>\n",
       "      <td>1</td>\n",
       "      <td>1</td>\n",
       "      <td>No Logrado</td>\n",
       "    </tr>\n",
       "    <tr>\n",
       "      <th>2</th>\n",
       "      <td>R001</td>\n",
       "      <td>ZN3</td>\n",
       "      <td>2801</td>\n",
       "      <td>ALCORCON-009</td>\n",
       "      <td>VENTA</td>\n",
       "      <td>1</td>\n",
       "      <td>10</td>\n",
       "      <td>2021-02-09 00:00:00</td>\n",
       "      <td>2021-02-14 00:00:00</td>\n",
       "      <td>RESELLER</td>\n",
       "      <td>999009390</td>\n",
       "      <td>NOELIA IGLESIAS ONTORIA</td>\n",
       "      <td>noelia.iglesiasontoria@gmail.com</td>\n",
       "      <td>PROPIETARIO</td>\n",
       "      <td>1</td>\n",
       "      <td>1</td>\n",
       "      <td>Logrado</td>\n",
       "    </tr>\n",
       "    <tr>\n",
       "      <th>3</th>\n",
       "      <td>R001</td>\n",
       "      <td>ZN3</td>\n",
       "      <td>2801</td>\n",
       "      <td>ALCORCON-019</td>\n",
       "      <td>VENTA</td>\n",
       "      <td>2</td>\n",
       "      <td>20</td>\n",
       "      <td>2021-02-09 00:00:00</td>\n",
       "      <td>2021-02-14 00:00:00</td>\n",
       "      <td>OFFICIAL RESELLER</td>\n",
       "      <td>2698</td>\n",
       "      <td>Pedro Fernandez Garcia</td>\n",
       "      <td>estanco19alcorcon@gmail.com</td>\n",
       "      <td>PROPIETARIO</td>\n",
       "      <td>1</td>\n",
       "      <td>1</td>\n",
       "      <td>No Logrado</td>\n",
       "    </tr>\n",
       "    <tr>\n",
       "      <th>4</th>\n",
       "      <td>R001</td>\n",
       "      <td>ZN3</td>\n",
       "      <td>2801</td>\n",
       "      <td>EL ESCORIAL-001</td>\n",
       "      <td>VENTA</td>\n",
       "      <td>1</td>\n",
       "      <td>10</td>\n",
       "      <td>2021-02-09 00:00:00</td>\n",
       "      <td>2021-02-14 00:00:00</td>\n",
       "      <td>RESELLER</td>\n",
       "      <td>999009341</td>\n",
       "      <td>Cristina Aguilar Partida</td>\n",
       "      <td>mc.aguilar@hotmail.es</td>\n",
       "      <td>PROPIETARIO</td>\n",
       "      <td>1</td>\n",
       "      <td>1</td>\n",
       "      <td>Logrado</td>\n",
       "    </tr>\n",
       "  </tbody>\n",
       "</table>\n",
       "</div>"
      ],
      "text/plain": [
       "  Region Zona  Territorio          Estanco Tipo reto  Reto  Puntos  \\\n",
       "0   R001  ZN3        2801     ALCORCON-001     VENTA     2      20   \n",
       "1   R001  ZN3        2801     ALCORCON-007     VENTA     2      20   \n",
       "2   R001  ZN3        2801     ALCORCON-009     VENTA     1      10   \n",
       "3   R001  ZN3        2801     ALCORCON-019     VENTA     2      20   \n",
       "4   R001  ZN3        2801  EL ESCORIAL-001     VENTA     1      10   \n",
       "\n",
       "          Fecha inicio            Fecha fin                Segmento  \\\n",
       "0  2021-02-09 00:00:00  2021-02-14 00:00:00       OFFICIAL RESELLER   \n",
       "1  2021-02-09 00:00:00  2021-02-14 00:00:00  OFFICIAL RESELLER PLUS   \n",
       "2  2021-02-09 00:00:00  2021-02-14 00:00:00                RESELLER   \n",
       "3  2021-02-09 00:00:00  2021-02-14 00:00:00       OFFICIAL RESELLER   \n",
       "4  2021-02-09 00:00:00  2021-02-14 00:00:00                RESELLER   \n",
       "\n",
       "      Codigo        Nombre profesional                             Email  \\\n",
       "0  999009382       Laura Garcia Moreno             l.garcia.m@hotmail.es   \n",
       "1  999009388     ALEJANDRO MARCOS RUIZ     estancolasretamas54@gmail.com   \n",
       "2  999009390   NOELIA IGLESIAS ONTORIA  noelia.iglesiasontoria@gmail.com   \n",
       "3       2698    Pedro Fernandez Garcia       estanco19alcorcon@gmail.com   \n",
       "4  999009341  Cristina Aguilar Partida             mc.aguilar@hotmail.es   \n",
       "\n",
       "        Perfil  Activo  Resultado Ventas Resultado (Retos Logrado/No logrado)  \n",
       "0  PROPIETARIO       1                 0                           No Logrado  \n",
       "1  PROPIETARIO       1                 1                           No Logrado  \n",
       "2  PROPIETARIO       1                 1                              Logrado  \n",
       "3  PROPIETARIO       1                 1                           No Logrado  \n",
       "4  PROPIETARIO       1                 1                              Logrado  "
      ]
     },
     "execution_count": 416,
     "metadata": {},
     "output_type": "execute_result"
    }
   ],
   "source": [
    "pos_df.head()"
   ]
  },
  {
   "cell_type": "markdown",
   "id": "1d382ce8",
   "metadata": {},
   "source": [
    "Since this is a clustering analysis, the exact Point of Sales is not relevant, only the origin."
   ]
  },
  {
   "cell_type": "code",
   "execution_count": 446,
   "id": "70e9c4ba",
   "metadata": {},
   "outputs": [
    {
     "data": {
      "text/plain": [
       "0               Alcorcon\n",
       "1               Alcorcon\n",
       "2               Alcorcon\n",
       "3               Alcorcon\n",
       "4            El escorial\n",
       "              ...       \n",
       "11725           Pamplona\n",
       "11726           Pamplona\n",
       "11727            Peralta\n",
       "11728    Puente la reina\n",
       "11729    Puente la reina\n",
       "Name: Estanco, Length: 11730, dtype: object"
      ]
     },
     "execution_count": 446,
     "metadata": {},
     "output_type": "execute_result"
    }
   ],
   "source": [
    "pos_df[\"Estanco\"] = pos_df.Estanco.str.split(\"-\", n=1, expand=False).str[0].str.capitalize()\n",
    "pos_df.Estanco"
   ]
  },
  {
   "cell_type": "code",
   "execution_count": 475,
   "id": "7b09ca44",
   "metadata": {},
   "outputs": [],
   "source": [
    "aux = pos_df.Zona.str.replace(\" \", \"\", case=True).str.replace(\"ONA\", \"N\").str.upper()"
   ]
  },
  {
   "cell_type": "code",
   "execution_count": 489,
   "id": "45d0b47c",
   "metadata": {},
   "outputs": [
    {
     "data": {
      "text/plain": [
       "0         ZN3\n",
       "1         ZN3\n",
       "2         ZN3\n",
       "3         ZN3\n",
       "4         ZN3\n",
       "         ... \n",
       "11725    ZN24\n",
       "11726    ZN24\n",
       "11727    ZN24\n",
       "11728    ZN24\n",
       "11729    ZN24\n",
       "Name: Zona, Length: 11730, dtype: string"
      ]
     },
     "execution_count": 489,
     "metadata": {},
     "output_type": "execute_result"
    }
   ],
   "source": [
    "aux"
   ]
  },
  {
   "cell_type": "code",
   "execution_count": 491,
   "id": "650fa195",
   "metadata": {},
   "outputs": [],
   "source": [
    "aux = aux.str[2:]"
   ]
  },
  {
   "cell_type": "code",
   "execution_count": 492,
   "id": "45c941e5",
   "metadata": {},
   "outputs": [],
   "source": [
    "def zone_cleaner(element):\n",
    "    if len(element) == 1:\n",
    "        return str(0)+element\n",
    "    return element"
   ]
  },
  {
   "cell_type": "code",
   "execution_count": 493,
   "id": "043ac8c7",
   "metadata": {},
   "outputs": [
    {
     "data": {
      "text/plain": [
       "0        03\n",
       "1        03\n",
       "2        03\n",
       "3        03\n",
       "4        03\n",
       "         ..\n",
       "11725    24\n",
       "11726    24\n",
       "11727    24\n",
       "11728    24\n",
       "11729    24\n",
       "Name: Zona, Length: 11730, dtype: object"
      ]
     },
     "execution_count": 493,
     "metadata": {},
     "output_type": "execute_result"
    }
   ],
   "source": [
    "aux.apply(zone_cleaner)"
   ]
  },
  {
   "cell_type": "code",
   "execution_count": null,
   "id": "d0548bd7",
   "metadata": {},
   "outputs": [],
   "source": [
    "aux.str.split(\"\", )"
   ]
  }
 ],
 "metadata": {
  "kernelspec": {
   "display_name": "Python 3",
   "language": "python",
   "name": "python3"
  },
  "language_info": {
   "codemirror_mode": {
    "name": "ipython",
    "version": 3
   },
   "file_extension": ".py",
   "mimetype": "text/x-python",
   "name": "python",
   "nbconvert_exporter": "python",
   "pygments_lexer": "ipython3",
   "version": "3.8.11"
  },
  "toc": {
   "base_numbering": 1,
   "nav_menu": {},
   "number_sections": true,
   "sideBar": true,
   "skip_h1_title": false,
   "title_cell": "Table of Contents",
   "title_sidebar": "Contents",
   "toc_cell": false,
   "toc_position": {},
   "toc_section_display": true,
   "toc_window_display": false
  }
 },
 "nbformat": 4,
 "nbformat_minor": 5
}
